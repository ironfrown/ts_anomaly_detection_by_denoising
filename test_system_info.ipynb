{
 "cells": [
  {
   "cell_type": "markdown",
   "id": "49202c81",
   "metadata": {},
   "source": [
    "Testing Latex $\\langle\\psi\\lvert\\phi\\rangle$"
   ]
  },
  {
   "cell_type": "code",
   "execution_count": 4,
   "id": "58e6a85e-8417-4d1d-b37f-b6e8651d0f5e",
   "metadata": {},
   "outputs": [
    {
     "data": {
      "text/plain": [
       "'/Users/air/Documents/GitHub/ts_anomaly_detection_by_denoising'"
      ]
     },
     "execution_count": 4,
     "metadata": {},
     "output_type": "execute_result"
    }
   ],
   "source": [
    "import os\n",
    "os.getcwd() "
   ]
  },
  {
   "cell_type": "code",
   "execution_count": 5,
   "id": "2b0f7fa6",
   "metadata": {},
   "outputs": [
    {
     "name": "stdout",
     "output_type": "stream",
     "text": [
      "# conda environments:\n",
      "#\n",
      "                         /Users/air/.julia/conda/3/aarch64\n",
      "                         /Users/air/.julia/environments/v1.9/.CondaPkg/env\n",
      "                         /Users/air/Library/r-miniconda-arm64\n",
      "                         /Users/air/Library/r-miniconda-arm64/envs/r-reticulate\n",
      "base                     /Users/air/miniforge3\n",
      "venv                  *  /Users/air/miniforge3/envs/venv\n",
      "\n"
     ]
    }
   ],
   "source": [
    "!conda env list"
   ]
  },
  {
   "cell_type": "code",
   "execution_count": 6,
   "id": "9dfcc432",
   "metadata": {},
   "outputs": [
    {
     "name": "stdout",
     "output_type": "stream",
     "text": [
      "qiskit                   0.44.0\n",
      "qiskit-terra             0.25.0\n",
      "tensorflow               2.13.0\n",
      "tensorflow-estimator     2.13.0\n",
      "tensorflow-macos         2.13.0\n",
      "torch                    2.0.1\n"
     ]
    }
   ],
   "source": [
    "!pip list | grep -e qiskit -e torch -e tensorflow"
   ]
  },
  {
   "cell_type": "code",
   "execution_count": 7,
   "id": "1156f1fe",
   "metadata": {},
   "outputs": [
    {
     "data": {
      "text/html": [
       "<h3>Version Information</h3><table><tr><th>Software</th><th>Version</th></tr><tr><td><code>qiskit</code></td><td>0.44.0</td></tr><tr><td><code>qiskit-terra</code></td><td>0.25.0</td></tr><tr><th colspan='2'>System information</th></tr><tr><td>Python version</td><td>3.10.12</td></tr><tr><td>Python compiler</td><td>Clang 15.0.7 </td></tr><tr><td>Python build</td><td>main, Jun 23 2023 22:41:52</td></tr><tr><td>OS</td><td>Darwin</td></tr><tr><td>CPUs</td><td>8</td></tr><tr><td>Memory (Gb)</td><td>16.0</td></tr><tr><td colspan='2'>Mon Jul 31 11:07:25 2023 CEST</td></tr></table>"
      ],
      "text/plain": [
       "<IPython.core.display.HTML object>"
      ]
     },
     "metadata": {},
     "output_type": "display_data"
    }
   ],
   "source": [
    "import qiskit.tools.jupyter\n",
    "%qiskit_version_table"
   ]
  },
  {
   "cell_type": "code",
   "execution_count": null,
   "id": "4292f730",
   "metadata": {},
   "outputs": [],
   "source": []
  }
 ],
 "metadata": {
  "kernelspec": {
   "display_name": "Python 3 (ipykernel)",
   "language": "python",
   "name": "python3"
  },
  "language_info": {
   "codemirror_mode": {
    "name": "ipython",
    "version": 3
   },
   "file_extension": ".py",
   "mimetype": "text/x-python",
   "name": "python",
   "nbconvert_exporter": "python",
   "pygments_lexer": "ipython3",
   "version": "3.10.12"
  }
 },
 "nbformat": 4,
 "nbformat_minor": 5
}
