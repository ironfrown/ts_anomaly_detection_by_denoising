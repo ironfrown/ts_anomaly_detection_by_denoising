{
 "cells": [
  {
   "cell_type": "markdown",
   "id": "49202c81",
   "metadata": {},
   "source": [
    "Testing Latex $\\langle\\psi\\lvert\\phi\\rangle$"
   ]
  },
  {
   "cell_type": "code",
   "execution_count": 4,
   "id": "58e6a85e-8417-4d1d-b37f-b6e8651d0f5e",
   "metadata": {},
   "outputs": [
    {
     "data": {
      "text/plain": [
       "'/home/jacob/Dropbox/Dev/Python/quantum_projects/ts/ts_denoise'"
      ]
     },
     "execution_count": 4,
     "metadata": {},
     "output_type": "execute_result"
    }
   ],
   "source": [
    "import os\n",
    "os.getcwd() "
   ]
  },
  {
   "cell_type": "code",
   "execution_count": 5,
   "id": "2b0f7fa6",
   "metadata": {},
   "outputs": [
    {
     "name": "stdout",
     "output_type": "stream",
     "text": [
      "# conda environments:\n",
      "#\n",
      "base                     /home/jacob/miniconda3\n",
      "qiskit                *  /home/jacob/miniconda3/envs/qiskit\n",
      "qiskit43                 /home/jacob/miniconda3/envs/qiskit43\n",
      "qiskit44                 /home/jacob/miniconda3/envs/qiskit44\n",
      "tf2                      /home/jacob/miniconda3/envs/tf2\n",
      "\n"
     ]
    }
   ],
   "source": [
    "!conda env list"
   ]
  },
  {
   "cell_type": "code",
   "execution_count": 6,
   "id": "9dfcc432",
   "metadata": {},
   "outputs": [
    {
     "name": "stdout",
     "output_type": "stream",
     "text": [
      "qiskit                        0.45.2\n",
      "qiskit-aer-gpu                0.13.2\n",
      "qiskit-algorithms             0.2.2\n",
      "qiskit-dynamics               0.4.3\n",
      "qiskit-experiments            0.5.4\n",
      "qiskit-finance                0.4.0\n",
      "qiskit-ibm-experiment         0.4.4\n",
      "qiskit-ibm-provider           0.8.0\n",
      "qiskit-ibm-runtime            0.18.0\n",
      "qiskit-ibmq-provider          0.20.2\n",
      "qiskit-machine-learning       0.7.1\n",
      "qiskit-nature                 0.7.1\n",
      "qiskit-optimization           0.6.0\n",
      "qiskit-terra                  0.45.2\n",
      "torch                         2.0.1+cu118\n",
      "torchaudio                    2.0.2+cu118\n",
      "torchsummary                  1.5.1\n",
      "torchvision                   0.15.2+cu118\n"
     ]
    }
   ],
   "source": [
    "!pip list | grep -e qiskit -e torch -e tensorflow -e PennyLane"
   ]
  },
  {
   "cell_type": "code",
   "execution_count": null,
   "id": "bb67c3e6-b433-42ea-b2e2-f879b2e55ed5",
   "metadata": {},
   "outputs": [],
   "source": []
  }
 ],
 "metadata": {
  "kernelspec": {
   "display_name": "Python 3 (ipykernel)",
   "language": "python",
   "name": "python3"
  },
  "language_info": {
   "codemirror_mode": {
    "name": "ipython",
    "version": 3
   },
   "file_extension": ".py",
   "mimetype": "text/x-python",
   "name": "python",
   "nbconvert_exporter": "python",
   "pygments_lexer": "ipython3",
   "version": "3.9.17"
  }
 },
 "nbformat": 4,
 "nbformat_minor": 5
}
