{
 "cells": [
  {
   "cell_type": "markdown",
   "id": "49202c81",
   "metadata": {},
   "source": [
    "Testing Latex $\\langle\\psi\\lvert\\phi\\rangle$"
   ]
  },
  {
   "cell_type": "code",
   "execution_count": 1,
   "id": "58e6a85e-8417-4d1d-b37f-b6e8651d0f5e",
   "metadata": {},
   "outputs": [
    {
     "data": {
      "text/plain": [
       "'/home/jacob/Dropbox/Dev/Python/quantum_projects/ts/ts_denoise'"
      ]
     },
     "execution_count": 1,
     "metadata": {},
     "output_type": "execute_result"
    }
   ],
   "source": [
    "import os\n",
    "os.getcwd() "
   ]
  },
  {
   "cell_type": "code",
   "execution_count": 2,
   "id": "2b0f7fa6",
   "metadata": {},
   "outputs": [
    {
     "name": "stdout",
     "output_type": "stream",
     "text": [
      "# conda environments:\n",
      "#\n",
      "base                     /home/jacob/miniconda3\n",
      "qiskit                   /home/jacob/miniconda3/envs/qiskit\n",
      "qiskit-bak               /home/jacob/miniconda3/envs/qiskit-bak\n",
      "qiskit_0_39_2         *  /home/jacob/miniconda3/envs/qiskit_0_39_2\n",
      "tf2                      /home/jacob/miniconda3/envs/tf2\n",
      "\n"
     ]
    }
   ],
   "source": [
    "!conda env list"
   ]
  },
  {
   "cell_type": "code",
   "execution_count": 3,
   "id": "9dfcc432",
   "metadata": {},
   "outputs": [
    {
     "name": "stdout",
     "output_type": "stream",
     "text": [
      "qiskit                        0.39.2\n",
      "qiskit-aer                    0.11.1\n",
      "qiskit-ibmq-provider          0.19.2\n",
      "qiskit-machine-learning       0.6.0\n",
      "qiskit-terra                  0.22.2\n",
      "torch                         2.0.1+cu118\n",
      "torchaudio                    2.0.2+cu118\n",
      "torchsummary                  1.5.1\n",
      "torchvision                   0.15.2+cu118\n"
     ]
    }
   ],
   "source": [
    "!pip list | grep -e qiskit -e torch -e tensorflow"
   ]
  },
  {
   "cell_type": "code",
   "execution_count": 4,
   "id": "1156f1fe",
   "metadata": {},
   "outputs": [
    {
     "data": {
      "text/html": [
       "<h3>Version Information</h3><table><tr><th>Qiskit Software</th><th>Version</th></tr><tr><td><code>qiskit-terra</code></td><td>0.22.2</td></tr><tr><td><code>qiskit-aer</code></td><td>0.11.1</td></tr><tr><td><code>qiskit-ibmq-provider</code></td><td>0.19.2</td></tr><tr><td><code>qiskit</code></td><td>0.39.2</td></tr><tr><td><code>qiskit-machine-learning</code></td><td>0.6.0</td></tr><tr><th>System information</th></tr><tr><td>Python version</td><td>3.9.17</td></tr><tr><td>Python compiler</td><td>GCC 11.2.0</td></tr><tr><td>Python build</td><td>main, Jul  5 2023 20:41:20</td></tr><tr><td>OS</td><td>Linux</td></tr><tr><td>CPUs</td><td>6</td></tr><tr><td>Memory (Gb)</td><td>62.48039245605469</td></tr><tr><td colspan='2'>Thu Jul 20 11:31:21 2023 AEST</td></tr></table>"
      ],
      "text/plain": [
       "<IPython.core.display.HTML object>"
      ]
     },
     "metadata": {},
     "output_type": "display_data"
    }
   ],
   "source": [
    "import qiskit.tools.jupyter\n",
    "%qiskit_version_table"
   ]
  }
 ],
 "metadata": {
  "kernelspec": {
   "display_name": "Python 3 (ipykernel)",
   "language": "python",
   "name": "python3"
  },
  "language_info": {
   "codemirror_mode": {
    "name": "ipython",
    "version": 3
   },
   "file_extension": ".py",
   "mimetype": "text/x-python",
   "name": "python",
   "nbconvert_exporter": "python",
   "pygments_lexer": "ipython3",
   "version": "3.9.17"
  }
 },
 "nbformat": 4,
 "nbformat_minor": 5
}
